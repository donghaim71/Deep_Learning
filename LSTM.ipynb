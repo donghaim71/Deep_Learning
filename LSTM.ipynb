{
  "nbformat": 4,
  "nbformat_minor": 0,
  "metadata": {
    "colab": {
      "name": "RNN.ipynb",
      "provenance": [],
      "collapsed_sections": []
    },
    "kernelspec": {
      "name": "python3",
      "display_name": "Python 3"
    },
    "language_info": {
      "name": "python"
    }
  },
  "cells": [
    {
      "cell_type": "code",
      "execution_count": 1,
      "metadata": {
        "colab": {
          "base_uri": "https://localhost:8080/",
          "height": 1000
        },
        "id": "rYfZiLcwgHCd",
        "outputId": "b89f750a-0515-4c7b-a83d-e0ddf94012f5"
      },
      "outputs": [
        {
          "output_type": "stream",
          "name": "stdout",
          "text": [
            "Downloading data from https://storage.googleapis.com/tensorflow/tf-keras-datasets/reuters.npz\n",
            "2113536/2110848 [==============================] - 0s 0us/step\n",
            "2121728/2110848 [==============================] - 0s 0us/step\n",
            "46 카테고리\n",
            "8982 학습용 뉴스 기사\n",
            "2246 테스트용 뉴스 기사\n",
            "[1, 4, 2, 2, 9, 697, 2, 111, 8, 25, 109, 29, 2, 11, 150, 244, 364, 33, 30, 30, 2, 333, 6, 2, 159, 9, 2, 363, 13, 2, 71, 9, 2, 71, 117, 4, 225, 78, 206, 10, 9, 2, 8, 4, 270, 5, 2, 7, 748, 48, 9, 2, 7, 207, 2, 966, 2, 793, 97, 133, 336, 7, 4, 493, 98, 273, 104, 284, 25, 39, 338, 22, 905, 220, 2, 644, 59, 20, 6, 119, 61, 11, 15, 58, 579, 26, 10, 67, 7, 4, 738, 98, 43, 88, 333, 722, 12, 20, 6, 19, 746, 35, 15, 10, 9, 2, 855, 129, 783, 21, 4, 2, 244, 364, 51, 16, 299, 452, 16, 515, 4, 99, 29, 5, 4, 364, 281, 48, 10, 9, 2, 23, 644, 47, 20, 324, 27, 56, 2, 2, 5, 192, 510, 17, 12]\n",
            "Epoch 1/20\n",
            "90/90 [==============================] - 30s 285ms/step - loss: 2.5777 - accuracy: 0.3497 - val_loss: 2.1698 - val_accuracy: 0.4488\n",
            "Epoch 2/20\n",
            "90/90 [==============================] - 20s 221ms/step - loss: 2.0361 - accuracy: 0.4905 - val_loss: 1.9283 - val_accuracy: 0.5093\n",
            "Epoch 3/20\n",
            "90/90 [==============================] - 20s 221ms/step - loss: 1.8574 - accuracy: 0.5185 - val_loss: 1.8771 - val_accuracy: 0.5138\n",
            "Epoch 4/20\n",
            "90/90 [==============================] - 21s 238ms/step - loss: 1.7639 - accuracy: 0.5429 - val_loss: 1.7282 - val_accuracy: 0.5623\n",
            "Epoch 5/20\n",
            "90/90 [==============================] - 20s 220ms/step - loss: 1.6888 - accuracy: 0.5697 - val_loss: 1.9038 - val_accuracy: 0.5601\n",
            "Epoch 6/20\n",
            "90/90 [==============================] - 20s 225ms/step - loss: 1.6231 - accuracy: 0.5913 - val_loss: 1.6212 - val_accuracy: 0.5962\n",
            "Epoch 7/20\n",
            "90/90 [==============================] - 20s 218ms/step - loss: 1.5318 - accuracy: 0.6121 - val_loss: 1.5379 - val_accuracy: 0.6238\n",
            "Epoch 8/20\n",
            "90/90 [==============================] - 20s 219ms/step - loss: 1.4171 - accuracy: 0.6455 - val_loss: 1.5097 - val_accuracy: 0.6193\n",
            "Epoch 9/20\n",
            "90/90 [==============================] - 20s 221ms/step - loss: 1.3270 - accuracy: 0.6652 - val_loss: 1.4041 - val_accuracy: 0.6447\n",
            "Epoch 10/20\n",
            "90/90 [==============================] - 20s 228ms/step - loss: 1.2411 - accuracy: 0.6843 - val_loss: 1.3815 - val_accuracy: 0.6465\n",
            "Epoch 11/20\n",
            "90/90 [==============================] - 20s 222ms/step - loss: 1.1675 - accuracy: 0.7021 - val_loss: 1.2943 - val_accuracy: 0.6705\n",
            "Epoch 12/20\n",
            "90/90 [==============================] - 20s 222ms/step - loss: 1.0902 - accuracy: 0.7190 - val_loss: 1.2643 - val_accuracy: 0.6781\n",
            "Epoch 13/20\n",
            "90/90 [==============================] - 20s 218ms/step - loss: 1.0386 - accuracy: 0.7328 - val_loss: 1.2191 - val_accuracy: 0.6915\n",
            "Epoch 14/20\n",
            "90/90 [==============================] - 20s 218ms/step - loss: 1.0015 - accuracy: 0.7432 - val_loss: 1.2093 - val_accuracy: 0.7026\n",
            "Epoch 15/20\n",
            "90/90 [==============================] - 20s 223ms/step - loss: 0.9482 - accuracy: 0.7556 - val_loss: 1.2173 - val_accuracy: 0.7030\n",
            "Epoch 16/20\n",
            "90/90 [==============================] - 20s 218ms/step - loss: 0.9126 - accuracy: 0.7665 - val_loss: 1.2014 - val_accuracy: 0.7057\n",
            "Epoch 17/20\n",
            "90/90 [==============================] - 20s 217ms/step - loss: 0.8666 - accuracy: 0.7789 - val_loss: 1.2086 - val_accuracy: 0.7106\n",
            "Epoch 18/20\n",
            "90/90 [==============================] - 20s 219ms/step - loss: 0.8360 - accuracy: 0.7864 - val_loss: 1.1737 - val_accuracy: 0.7164\n",
            "Epoch 19/20\n",
            "90/90 [==============================] - 19s 216ms/step - loss: 0.7994 - accuracy: 0.8006 - val_loss: 1.1803 - val_accuracy: 0.7155\n",
            "Epoch 20/20\n",
            "90/90 [==============================] - 20s 218ms/step - loss: 0.7585 - accuracy: 0.8072 - val_loss: 1.1991 - val_accuracy: 0.7173\n",
            "71/71 [==============================] - 2s 21ms/step - loss: 1.1991 - accuracy: 0.7173\n",
            "\n",
            " Test Accuracy: 0.7173\n"
          ]
        },
        {
          "output_type": "display_data",
          "data": {
            "text/plain": [
              "<Figure size 432x288 with 1 Axes>"
            ],
            "image/png": "[encoded data removed]"
          },
          "metadata": {
            "needs_background": "light"
          }
        }
      ],
      "source": [
        "from keras.preprocessing import sequence\n",
        "from keras.datasets import reuters\n",
        "from keras.utils import np_utils\n",
        "from tensorflow.keras.models import Sequential\n",
        "from tensorflow.keras.layers import Dense,Flatten,Embedding, LSTM\n",
        "\n",
        "import numpy\n",
        "import tensorflow as tf\n",
        "import matplotlib.pyplot as plt\n",
        "\n",
        "\n",
        "# seed 값 설정\n",
        "seed = 0\n",
        "numpy.random.seed(seed)\n",
        "tf.random.set_seed(3)\n",
        "\n",
        "\n",
        "# 불러온 데이터셋을 학습셋과 테스트셋으로 나누기\n",
        "(X_train, Y_train), (X_test, Y_test) = reuters.load_data(num_words=1000, test_split=0.2)\n",
        "\n",
        "\n",
        "# 데이터 확인 후 출력\n",
        "category = numpy.max(Y_train) + 1\n",
        "print(category, '카테고리')\n",
        "print(len(X_train), '학습용 뉴스 기사')\n",
        "print(len(X_test), '테스트용 뉴스 기사')\n",
        "print(X_test[0])\n",
        "\n",
        "\n",
        "# 데이터 전처리\n",
        "x_train = sequence.pad_sequences(X_train, maxlen=100)\n",
        "x_test = sequence.pad_sequences(X_test, maxlen=100)\n",
        "y_train = np_utils.to_categorical(Y_train)\n",
        "y_test = np_utils.to_categorical(Y_test)\n",
        "\n",
        "\n",
        "# 모델의 설정\n",
        "model = Sequential()\n",
        "model.add(Embedding(1000, 100))\n",
        "model.add(LSTM(100, activation='tanh'))\n",
        "model.add(Dense(46, activation='softmax'))\n",
        "\n",
        "\n",
        "# 모델의 컴파일\n",
        "model.compile(loss='categorical_crossentropy', optimizer='adam', metrics=['accuracy'])\n",
        "\n",
        "\n",
        "# 모델의 실행\n",
        "history = model.fit(x_train, y_train, batch_size=100, epochs=20, validation_data=(x_test, y_test))\n",
        "\n",
        "\n",
        "# 테스트 정확도 출력\n",
        "print(\"\\n Test Accuracy: %.4f\" % (model.evaluate(x_test, y_test)[1]))\n",
        "\n",
        "\n",
        "# 테스트셋의 오차\n",
        "y_vloss = history.history['val_loss']\n",
        "\n",
        "\n",
        "# 학습셋의 오차\n",
        "y_loss = history.history['loss']\n",
        "\n",
        "\n",
        "# 그래프로 표현\n",
        "x_len = numpy.arange(len(y_loss))\n",
        "plt.plot(x_len, y_vloss, marker='.', c=\"red\", label='Testset_loss')\n",
        "plt.plot(x_len, y_loss, marker='.', c=\"blue\", label='Trainset_loss')\n",
        "\n",
        "\n",
        "# 그래프에 그리드를 추가하고 레이블을 표시\n",
        "plt.legend(loc='upper right')\n",
        "plt.grid()\n",
        "plt.xlabel('epoch')\n",
        "plt.ylabel('loss')\n",
        "plt.show()"
      ]
    }
  ]
}